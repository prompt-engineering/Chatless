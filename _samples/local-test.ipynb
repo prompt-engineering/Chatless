{
 "cells": [
  {
   "cell_type": "markdown",
   "metadata": {},
   "source": [
    "# 1. Install Kotlin Jupyter for Local Testing"
   ]
  },
  {
   "cell_type": "code",
   "execution_count": 1,
   "metadata": {
    "collapsed": false,
    "jupyter": {
     "outputs_hidden": false
    }
   },
   "outputs": [
    {
     "name": "stdout",
     "output_type": "stream",
     "text": [
      "Collecting kotlin-jupyter-kernel\n",
      "  Downloading kotlin_jupyter_kernel-0.11.0.255-py3-none-any.whl (78.2 MB)\n",
      "\u001b[2K     \u001b[90m━━━━━━━━━━━━━━━━━━━━━━━━━━━━━━━━━━━━━━━━\u001b[0m \u001b[32m78.2/78.2 MB\u001b[0m \u001b[31m1.3 MB/s\u001b[0m eta \u001b[36m0:00:00\u001b[0m00:01\u001b[0m00:02\u001b[0m\n",
      "\u001b[?25hInstalling collected packages: kotlin-jupyter-kernel\n",
      "Successfully installed kotlin-jupyter-kernel-0.11.0.255\n"
     ]
    }
   ],
   "source": [
    "!pip install kotlin-jupyter-kernel"
   ]
  },
  {
   "cell_type": "markdown",
   "metadata": {},
   "source": [
    "## 2. Switch Kernel\n",
    "\n",
    "Reconnect to Kernel and select `Kotlin` Kernel"
   ]
  },
  {
   "cell_type": "markdown",
   "metadata": {},
   "source": [
    "# 3. Test Kotlin Jupyter"
   ]
  },
  {
   "cell_type": "code",
   "execution_count": 1,
   "metadata": {
    "collapsed": false,
    "jupyter": {
     "outputs_hidden": false
    }
   },
   "outputs": [
    {
     "data": {
      "text/plain": [
       "{\"x\":2,\"y\":3}"
      ]
     },
     "execution_count": 1,
     "metadata": {},
     "output_type": "execute_result"
    }
   ],
   "source": [
    "import kotlinx.serialization.*\n",
    "import kotlinx.serialization.json.*\n",
    "\n",
    "\n",
    "@Serializable\n",
    "data class Pt(val x: Int, val y: Int)\n",
    "\n",
    "\n",
    "Json.encodeToString(Pt(2, 3))"
   ]
  },
  {
   "cell_type": "markdown",
   "metadata": {
    "jupyter": {
     "outputs_hidden": false
    }
   },
   "source": [
    "# 4. Make your testing!"
   ]
  },
  {
   "cell_type": "code",
   "execution_count": 9,
   "metadata": {},
   "outputs": [
    {
     "name": "stderr",
     "output_type": "stream",
     "text": [
      "Front-end Internal error: Failed to analyze declaration Line_8_jupyter\n",
      "File being compiled: (14,19) in Line_8.jupyter.kts\n",
      "The root cause org.jetbrains.kotlin.resolve.lazy.NoDescriptorForDeclarationException was thrown at: org.jetbrains.kotlin.resolve.lazy.BasicAbsentDescriptorHandler.diagnoseDescriptorNotFound(AbsentDescriptorHandler.kt:18)"
     ]
    }
   ],
   "source": [
    "// SLf4j 1.7 can accidentially be pulled in using Spring Boot 3 leading to exceptions\n",
    "// https://github.com/spring-projects/spring-boot/issues/33854\n",
    "@file:DependsOn(\"org.springframework.boot:spring-boot-starter-web:2.7.9\")\n",
    "//@file:DependsOn(\"org.slf4j:slf4j-api:2.0.7\")\n",
    "//@file:DependsOn(\"ch.qos.logback:logback-classic:1.4.6\")\n",
    "\n",
    "package hello\n",
    "\n",
    "import org.springframework.boot.*\n",
    "import org.springframework.boot.autoconfigure.*\n",
    "import org.springframework.web.bind.annotation.*\n",
    "import org.springframework.context.annotation.ComponentScan;\n",
    "import org.springframework.context.annotation.Configuration;\n",
    "import java.util.*\n",
    "\n",
    "@RestController\n",
    "class HelloController {\n",
    "    @GetMapping(\"/hello\")\n",
    "    fun helloKotlin(): String {\n",
    "        return \"hello world\"\n",
    "    }\n",
    "}\n",
    "\n",
    "//\n",
    "// @ComponentScan(basePackageClasses = [HelloController::class])\n",
    "@SpringBootApplication\n",
    "open class ReplApplication\n",
    "\n",
    "fun main(args: Array<String>) {\n",
    "    SpringApplication(ReplApplication::class.java).run(*args)\n",
    "}\n",
    "\n",
    "main(arrayOf(\"--server.port=8083\"))\n"
   ]
  },
  {
   "cell_type": "code",
   "execution_count": null,
   "metadata": {},
   "outputs": [],
   "source": []
  }
 ],
 "metadata": {
  "kernelspec": {
   "display_name": "Kotlin",
   "language": "kotlin",
   "name": "kotlin"
  },
  "language_info": {
   "codemirror_mode": "text/x-kotlin",
   "file_extension": ".kt",
   "mimetype": "text/x-kotlin",
   "name": "kotlin",
   "nbconvert_exporter": "",
   "pygments_lexer": "kotlin",
   "version": "1.8.20-Beta"
  }
 },
 "nbformat": 4,
 "nbformat_minor": 4
}
